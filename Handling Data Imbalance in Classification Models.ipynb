{
 "cells": [
  {
   "cell_type": "markdown",
   "id": "e285da47",
   "metadata": {},
   "source": [
    "# Lab | Handling Data Imbalance in Classification Models"
   ]
  },
  {
   "cell_type": "markdown",
   "id": "35f9ae49",
   "metadata": {},
   "source": [
    "Here is the list of steps to be followed (building a simple model without balancing the data):\n",
    "\n",
    "* Import the required libraries and modules that you would need.\n",
    "\n",
    "* Read that data into Python and call the dataframe donors.\n",
    "\n",
    "* Check the datatypes of all the columns in the data.\n",
    "\n",
    "* Check for null values in the dataframe. Replace the null values using the methods learned in class.\n",
    "\n",
    "* Split the data into numerical and catagorical. Decide if any columns need their dtype changed.\n",
    "\n",
    "    * Split the data into a training set and a test set.\n",
    "    * Scale the features either by using normalizer or a standard scaler.\n",
    "    * Encode the categorical features using One-Hot Encoding or Ordinal Encoding\n",
    "    * Fit a logistic regression model on the training data.\n",
    "    * Check the accuracy on the test data.\n",
    "    \n",
    "    \n",
    "Note: So far we have not balanced the data.\n",
    "\n",
    "Managing imbalance in the dataset\n",
    "\n",
    "Check for the imbalance.\n",
    "Use the resampling strategies used in class for upsampling and downsampling to create a balance between the two classes.\n",
    "Each time fit the model and see how the accuracy of the model has changed."
   ]
  },
  {
   "cell_type": "markdown",
   "id": "3f9e35a1",
   "metadata": {},
   "source": [
    "* Import the required libraries and modules that you would need."
   ]
  },
  {
   "cell_type": "code",
   "execution_count": 1,
   "id": "ea779c09",
   "metadata": {},
   "outputs": [],
   "source": [
    "import pandas as pd\n",
    "import numpy as np\n",
    "from sklearn.model_selection import train_test_split\n",
    "from sklearn.preprocessing import MinMaxScaler\n",
    "from sklearn.preprocessing import OneHotEncoder\n",
    "\n",
    "pd.set_option('display.max_columns', None)"
   ]
  },
  {
   "cell_type": "code",
   "execution_count": 2,
   "id": "7764ccdd",
   "metadata": {},
   "outputs": [],
   "source": [
    "import matplotlib.pyplot as plt\n",
    "import seaborn as sns "
   ]
  },
  {
   "cell_type": "markdown",
   "id": "d8dcccec",
   "metadata": {},
   "source": [
    "* Read that data into Python and call the dataframe donors."
   ]
  },
  {
   "cell_type": "code",
   "execution_count": 3,
   "id": "d503e8e2",
   "metadata": {},
   "outputs": [],
   "source": [
    "categorical = pd.read_csv('categorical7_02.csv')\n",
    "numerical = pd.read_csv('numerical7_02.csv')\n",
    "targets = pd.read_csv('target7_02.csv')"
   ]
  },
  {
   "cell_type": "markdown",
   "id": "a7b2518d",
   "metadata": {},
   "source": [
    "* Check the datatypes of all the columns in the data."
   ]
  },
  {
   "cell_type": "code",
   "execution_count": 4,
   "id": "4c7eb11d",
   "metadata": {},
   "outputs": [
    {
     "data": {
      "text/plain": [
       "Unnamed: 0      int64\n",
       "STATE          object\n",
       "CLUSTER         int64\n",
       "HOMEOWNR       object\n",
       "GENDER         object\n",
       "DATASRCE        int64\n",
       "SOLIH         float64\n",
       "VETERANS       object\n",
       "RFA_2R         object\n",
       "RFA_2A         object\n",
       "GEOCODE2       object\n",
       "DOMAIN_A       object\n",
       "DOMAIN_B        int64\n",
       "dtype: object"
      ]
     },
     "execution_count": 4,
     "metadata": {},
     "output_type": "execute_result"
    }
   ],
   "source": [
    "categorical.dtypes"
   ]
  },
  {
   "cell_type": "code",
   "execution_count": 5,
   "id": "bc5496d3",
   "metadata": {},
   "outputs": [
    {
     "data": {
      "text/plain": [
       "Unnamed: 0      int64\n",
       "ODATEDW         int64\n",
       "TCODE           int64\n",
       "DOB             int64\n",
       "AGE           float64\n",
       "               ...   \n",
       "AVGGIFT       float64\n",
       "CONTROLN        int64\n",
       "HPHONE_D        int64\n",
       "RFA_2F          int64\n",
       "CLUSTER2      float64\n",
       "Length: 323, dtype: object"
      ]
     },
     "execution_count": 5,
     "metadata": {},
     "output_type": "execute_result"
    }
   ],
   "source": [
    "numerical.dtypes"
   ]
  },
  {
   "cell_type": "code",
   "execution_count": 6,
   "id": "0e57a6d3",
   "metadata": {},
   "outputs": [],
   "source": [
    "# I had 1 column extra because I saved the csv wrong, I'm cleaning that here\n",
    "\n",
    "def drop(df):\n",
    "    df = df.drop(['Unnamed: 0'],axis=1)\n",
    "    return df"
   ]
  },
  {
   "cell_type": "code",
   "execution_count": 7,
   "id": "f56e054c",
   "metadata": {},
   "outputs": [],
   "source": [
    "categorical = drop(categorical)\n",
    "numerical = drop(numerical)\n",
    "targets = drop(targets)"
   ]
  },
  {
   "cell_type": "markdown",
   "id": "ec07953a",
   "metadata": {},
   "source": [
    "* Check for null values in the dataframe. Replace the null values using the methods learned in class."
   ]
  },
  {
   "cell_type": "code",
   "execution_count": 8,
   "id": "493a8ad9",
   "metadata": {},
   "outputs": [
    {
     "data": {
      "text/plain": [
       "STATE           0\n",
       "CLUSTER         0\n",
       "HOMEOWNR        0\n",
       "GENDER          0\n",
       "DATASRCE        0\n",
       "SOLIH       89212\n",
       "VETERANS    84986\n",
       "RFA_2R          0\n",
       "RFA_2A          0\n",
       "GEOCODE2        0\n",
       "DOMAIN_A        0\n",
       "DOMAIN_B        0\n",
       "dtype: int64"
      ]
     },
     "execution_count": 8,
     "metadata": {},
     "output_type": "execute_result"
    }
   ],
   "source": [
    "categorical.isna().sum()"
   ]
  },
  {
   "cell_type": "code",
   "execution_count": 9,
   "id": "ec0eb3c8",
   "metadata": {
    "scrolled": true
   },
   "outputs": [
    {
     "name": "stdout",
     "output_type": "stream",
     "text": [
      "NaN     89212\n",
      "12.0     5693\n",
      "0.0       296\n",
      "1.0        94\n",
      "2.0        75\n",
      "3.0        19\n",
      "4.0        16\n",
      "6.0         7\n",
      "Name: SOLIH, dtype: int64\n"
     ]
    },
    {
     "data": {
      "text/plain": [
       "NaN    84986\n",
       "Y      10426\n",
       "Name: VETERANS, dtype: int64"
      ]
     },
     "execution_count": 9,
     "metadata": {},
     "output_type": "execute_result"
    }
   ],
   "source": [
    "print(categorical['SOLIH'].value_counts(dropna=False))\n",
    "categorical['VETERANS'].value_counts(dropna=False)"
   ]
  },
  {
   "cell_type": "code",
   "execution_count": 10,
   "id": "90e99d0e",
   "metadata": {},
   "outputs": [],
   "source": [
    "# SOLIH | SOLICITATION LIMIT CODE IN HOUSE : It should have values from 0-6 and 12\n",
    "# we can see that the value 5 is missing so we could fillna with 5, but there are too many of them\n",
    "categorical['SOLIH'] = categorical['SOLIH'].fillna('other')"
   ]
  },
  {
   "cell_type": "code",
   "execution_count": 11,
   "id": "7c15bbfe",
   "metadata": {},
   "outputs": [],
   "source": [
    "# VETERANS it seems to be a YES/NO column so I'm going to fill nans with N\n",
    "categorical['VETERANS'] = categorical['VETERANS'].fillna('N')"
   ]
  },
  {
   "cell_type": "code",
   "execution_count": 12,
   "id": "08e64d50",
   "metadata": {},
   "outputs": [
    {
     "data": {
      "text/plain": [
       "ODATEDW     0\n",
       "TCODE       0\n",
       "DOB         0\n",
       "AGE         0\n",
       "INCOME      0\n",
       "           ..\n",
       "AVGGIFT     0\n",
       "CONTROLN    0\n",
       "HPHONE_D    0\n",
       "RFA_2F      0\n",
       "CLUSTER2    0\n",
       "Length: 322, dtype: int64"
      ]
     },
     "execution_count": 12,
     "metadata": {},
     "output_type": "execute_result"
    }
   ],
   "source": [
    "numerical.isna().sum()"
   ]
  },
  {
   "cell_type": "code",
   "execution_count": 13,
   "id": "91a3d371",
   "metadata": {},
   "outputs": [
    {
     "data": {
      "text/html": [
       "<div>\n",
       "<style scoped>\n",
       "    .dataframe tbody tr th:only-of-type {\n",
       "        vertical-align: middle;\n",
       "    }\n",
       "\n",
       "    .dataframe tbody tr th {\n",
       "        vertical-align: top;\n",
       "    }\n",
       "\n",
       "    .dataframe thead th {\n",
       "        text-align: right;\n",
       "    }\n",
       "</style>\n",
       "<table border=\"1\" class=\"dataframe\">\n",
       "  <thead>\n",
       "    <tr style=\"text-align: right;\">\n",
       "      <th></th>\n",
       "      <th>column_name</th>\n",
       "      <th>nulls</th>\n",
       "    </tr>\n",
       "  </thead>\n",
       "  <tbody>\n",
       "    <tr>\n",
       "      <th>315</th>\n",
       "      <td>NEXTDATE</td>\n",
       "      <td>9973</td>\n",
       "    </tr>\n",
       "  </tbody>\n",
       "</table>\n",
       "</div>"
      ],
      "text/plain": [
       "    column_name  nulls\n",
       "315    NEXTDATE   9973"
      ]
     },
     "execution_count": 13,
     "metadata": {},
     "output_type": "execute_result"
    }
   ],
   "source": [
    "df = pd.DataFrame(numerical.isna().sum()).reset_index()\n",
    "df.columns = ['column_name', 'nulls']\n",
    "df[df['nulls']>0]"
   ]
  },
  {
   "cell_type": "code",
   "execution_count": 14,
   "id": "e263e1d5",
   "metadata": {},
   "outputs": [
    {
     "name": "stderr",
     "output_type": "stream",
     "text": [
      "C:\\Users\\Julia\\anaconda3\\lib\\site-packages\\seaborn\\distributions.py:2619: FutureWarning: `distplot` is a deprecated function and will be removed in a future version. Please adapt your code to use either `displot` (a figure-level function with similar flexibility) or `histplot` (an axes-level function for histograms).\n",
      "  warnings.warn(msg, FutureWarning)\n"
     ]
    },
    {
     "data": {
      "image/png": "[encoded data removed]",
      "text/plain": [
       "<Figure size 432x288 with 1 Axes>"
      ]
     },
     "metadata": {
      "needs_background": "light"
     },
     "output_type": "display_data"
    }
   ],
   "source": [
    "sns.distplot(numerical['NEXTDATE'])\n",
    "plt.show()\n"
   ]
  },
  {
   "cell_type": "code",
   "execution_count": 15,
   "id": "736792cd",
   "metadata": {},
   "outputs": [],
   "source": [
    "# I'm going to drop the dates columns because they don't give much information about the donation and the numbers\n",
    "# are encoded so they are YYMM and it won't help my model (pending changing FISTDATE and NEXTDATE with 0 and 1)\n",
    "\n",
    "num_drop = ['NEXTDATE','FISTDATE','LASTDATE','ODATEDW']"
   ]
  },
  {
   "cell_type": "markdown",
   "id": "11ac7996",
   "metadata": {},
   "source": [
    "* Split the data into numerical and catagorical. Decide if any columns need their dtype changed."
   ]
  },
  {
   "cell_type": "code",
   "execution_count": 16,
   "id": "2b23513a",
   "metadata": {},
   "outputs": [
    {
     "data": {
      "text/plain": [
       "STATE       12\n",
       "CLUSTER     53\n",
       "HOMEOWNR     2\n",
       "GENDER       3\n",
       "DATASRCE     4\n",
       "SOLIH        8\n",
       "VETERANS     2\n",
       "RFA_2R       1\n",
       "RFA_2A       4\n",
       "GEOCODE2     4\n",
       "DOMAIN_A     5\n",
       "DOMAIN_B     4\n",
       "dtype: int64"
      ]
     },
     "execution_count": 16,
     "metadata": {},
     "output_type": "execute_result"
    }
   ],
   "source": [
    "categorical.nunique()"
   ]
  },
  {
   "cell_type": "code",
   "execution_count": 17,
   "id": "76a9d5aa",
   "metadata": {},
   "outputs": [
    {
     "data": {
      "text/plain": [
       "L    95412\n",
       "Name: RFA_2R, dtype: int64"
      ]
     },
     "execution_count": 17,
     "metadata": {},
     "output_type": "execute_result"
    }
   ],
   "source": [
    "# this column is a constant so it doesn't give us any information, I will drop it\n",
    "\n",
    "categorical['RFA_2R'].value_counts(dropna=False)"
   ]
  },
  {
   "cell_type": "code",
   "execution_count": 18,
   "id": "0c8fcf36",
   "metadata": {},
   "outputs": [
    {
     "data": {
      "text/plain": [
       "other    89212\n",
       "12.0      5693\n",
       "0.0        296\n",
       "1.0         94\n",
       "2.0         75\n",
       "3.0         19\n",
       "4.0         16\n",
       "6.0          7\n",
       "Name: SOLIH, dtype: int64"
      ]
     },
     "execution_count": 18,
     "metadata": {},
     "output_type": "execute_result"
    }
   ],
   "source": [
    "# I will group the 0-6 values, because they are a little portion of the data and it will be easier for encoding after\n",
    "\n",
    "categorical['SOLIH'].value_counts()"
   ]
  },
  {
   "cell_type": "code",
   "execution_count": 19,
   "id": "56b44f61",
   "metadata": {},
   "outputs": [],
   "source": [
    "categorical['SOLIH'] = np.where(categorical['SOLIH'].isin([0,1,2,3,4,6]), '0-6', categorical['SOLIH'] )"
   ]
  },
  {
   "cell_type": "code",
   "execution_count": 20,
   "id": "4d35fb39",
   "metadata": {},
   "outputs": [
    {
     "data": {
      "text/plain": [
       "other    89212\n",
       "12.0      5693\n",
       "0-6        507\n",
       "Name: SOLIH, dtype: int64"
      ]
     },
     "execution_count": 20,
     "metadata": {},
     "output_type": "execute_result"
    }
   ],
   "source": [
    "categorical['SOLIH'].value_counts()"
   ]
  },
  {
   "cell_type": "code",
   "execution_count": 21,
   "id": "9f301cd4",
   "metadata": {},
   "outputs": [],
   "source": [
    "categorical = categorical.drop(['RFA_2R'],axis=1)"
   ]
  },
  {
   "cell_type": "code",
   "execution_count": 22,
   "id": "642102e7",
   "metadata": {},
   "outputs": [
    {
     "data": {
      "text/plain": [
       "Index(['STATE', 'CLUSTER', 'HOMEOWNR', 'GENDER', 'DATASRCE', 'SOLIH',\n",
       "       'VETERANS', 'RFA_2A', 'GEOCODE2', 'DOMAIN_A', 'DOMAIN_B'],\n",
       "      dtype='object')"
      ]
     },
     "execution_count": 22,
     "metadata": {},
     "output_type": "execute_result"
    }
   ],
   "source": [
    "categorical.columns"
   ]
  },
  {
   "cell_type": "code",
   "execution_count": 23,
   "id": "b820183a",
   "metadata": {},
   "outputs": [],
   "source": [
    "numerical =numerical.drop(num_drop,axis=1)"
   ]
  },
  {
   "cell_type": "code",
   "execution_count": null,
   "id": "a7832ac6",
   "metadata": {},
   "outputs": [],
   "source": []
  },
  {
   "cell_type": "code",
   "execution_count": 24,
   "id": "6f410e0d",
   "metadata": {},
   "outputs": [],
   "source": [
    "X = pd.concat([categorical, numerical], axis=1)\n",
    "y = targets.drop(['TARGET_D'],axis=1)"
   ]
  },
  {
   "cell_type": "code",
   "execution_count": 25,
   "id": "53bea815",
   "metadata": {},
   "outputs": [],
   "source": [
    "def logistic_regr(X,y):\n",
    "    # * Split the data into a training set and a test set.\n",
    "    X_train, X_test, y_train, y_test = train_test_split(X, y, test_size=0.25)\n",
    "    print(X_train.shape)\n",
    "    print(X_test.shape)\n",
    "    print(y_train.shape)\n",
    "    print(y_test.shape)\n",
    "\n",
    "    #split numericals - categoricals\n",
    "    X_train_num = X_train.select_dtypes(np.number)\n",
    "    X_test_num = X_test.select_dtypes(np.number)\n",
    "    \n",
    "    X_train_cat = X_train.select_dtypes(object)\n",
    "    X_test_cat = X_test.select_dtypes(object)\n",
    "    \n",
    "    \n",
    "# I will join  'DATASRCE','DOMAIN_B' to the categoricals dataframe\n",
    "# I will keep CLUSTER and CLUSTER2 in the numericals because there are too many of them to encode\n",
    "# I will drop TCODE because it is a categorical column with lots of different values and it will be hard to encode, if I had the time maybe I could encode it but it's too large\n",
    "# I will drop DOB because I already have a column for the age\n",
    "# I will keep RFA_2F in the numericals because I can't find it's meaning, and it is probably a categorical but I can't be sure\n",
    "    \n",
    "    X_train_num = X_train_num.drop(['DATASRCE','DOMAIN_B','TCODE','DOB'],axis=1)\n",
    "    X_test_num = X_test_num.drop(['DATASRCE','DOMAIN_B','TCODE','DOB'],axis=1)\n",
    "    \n",
    "    X_train_cat = pd.concat([X_train_cat,X_train['DATASRCE'],X_train['DOMAIN_B']],axis=1)\n",
    "    X_test_cat = pd.concat([X_test_cat,X_test['DATASRCE'],X_test['DOMAIN_B']],axis=1)\n",
    "    \n",
    "    \n",
    "    \n",
    "    # * Scale the features either by using normalizer or a standard scaler.\n",
    "        \n",
    "    #fit and transform scaling numericals\n",
    "    minmax = MinMaxScaler().fit(X_train_num) \n",
    "    \n",
    "    X_train_norm = minmax.transform(X_train_num)\n",
    "    X_test_norm = minmax.transform(X_test_num)\n",
    "    \n",
    "    # convert to dataframe again\n",
    "    X_train_norm = pd.DataFrame(X_train_norm,columns=X_train_num.columns) \n",
    "    X_test_norm = pd.DataFrame(X_test_norm,columns=X_test_num.columns) \n",
    "    \n",
    "    # * Encode the categorical features using One-Hot Encoding or Ordinal Encoding\n",
    "    \n",
    "    X_train_cat = X_train_cat.astype(str)\n",
    "    X_test_cat = X_test_cat.astype(str)\n",
    "    \n",
    "    #fit and transform encoding categoricals\n",
    "    onehot = OneHotEncoder(handle_unknown='error', drop='first').fit(X_train_cat) \n",
    "    \n",
    "    X_train_enc = onehot.transform(X_train_cat).toarray()\n",
    "    X_test_enc = onehot.transform(X_test_cat).toarray()\n",
    "    \n",
    "    # convert to dataframe again\n",
    "    X_train_enc = pd.DataFrame(X_train_enc)\n",
    "    X_test_enc = pd.DataFrame(X_test_enc)\n",
    "    \n",
    "    #ready to fit the model\n",
    "    X_train_ready = pd.concat([X_train_norm,X_train_enc],axis=1)\n",
    "    X_test_ready = pd.concat([X_test_norm,X_test_enc],axis=1)\n",
    "    \n",
    "    return X_train_ready, X_test_ready, y_train, y_test"
   ]
  },
  {
   "cell_type": "code",
   "execution_count": 26,
   "id": "804e8055",
   "metadata": {},
   "outputs": [
    {
     "name": "stdout",
     "output_type": "stream",
     "text": [
      "(71559, 329)\n",
      "(23853, 329)\n",
      "(71559, 1)\n",
      "(23853, 1)\n"
     ]
    }
   ],
   "source": [
    "X_train_ready, X_test_ready, y_train, y_test = logistic_regr(X,y)"
   ]
  },
  {
   "cell_type": "markdown",
   "id": "1b15da21",
   "metadata": {},
   "source": [
    "    * Fit a logistic regression model on the training data."
   ]
  },
  {
   "cell_type": "code",
   "execution_count": 27,
   "id": "7620c8e7",
   "metadata": {},
   "outputs": [
    {
     "name": "stderr",
     "output_type": "stream",
     "text": [
      "C:\\Users\\Julia\\anaconda3\\lib\\site-packages\\sklearn\\utils\\validation.py:1858: FutureWarning: Feature names only support names that are all strings. Got feature names with dtypes: ['int', 'str']. An error will be raised in 1.2.\n",
      "  warnings.warn(\n",
      "C:\\Users\\Julia\\anaconda3\\lib\\site-packages\\sklearn\\utils\\validation.py:1858: FutureWarning: Feature names only support names that are all strings. Got feature names with dtypes: ['int', 'str']. An error will be raised in 1.2.\n",
      "  warnings.warn(\n"
     ]
    },
    {
     "data": {
      "text/html": [
       "<div>\n",
       "<style scoped>\n",
       "    .dataframe tbody tr th:only-of-type {\n",
       "        vertical-align: middle;\n",
       "    }\n",
       "\n",
       "    .dataframe tbody tr th {\n",
       "        vertical-align: top;\n",
       "    }\n",
       "\n",
       "    .dataframe thead th {\n",
       "        text-align: right;\n",
       "    }\n",
       "</style>\n",
       "<table border=\"1\" class=\"dataframe\">\n",
       "  <thead>\n",
       "    <tr style=\"text-align: right;\">\n",
       "      <th></th>\n",
       "      <th>0</th>\n",
       "      <th>1</th>\n",
       "      <th>2</th>\n",
       "      <th>3</th>\n",
       "      <th>4</th>\n",
       "      <th>5</th>\n",
       "      <th>6</th>\n",
       "      <th>7</th>\n",
       "      <th>8</th>\n",
       "      <th>9</th>\n",
       "    </tr>\n",
       "  </thead>\n",
       "  <tbody>\n",
       "    <tr>\n",
       "      <th>0</th>\n",
       "      <td>0.010101</td>\n",
       "      <td>0.080808</td>\n",
       "      <td>0.222222</td>\n",
       "      <td>0.000000</td>\n",
       "      <td>0.027397</td>\n",
       "      <td>0.111111</td>\n",
       "      <td>0.666667</td>\n",
       "      <td>1.0</td>\n",
       "      <td>0.0</td>\n",
       "      <td>0.0</td>\n",
       "    </tr>\n",
       "    <tr>\n",
       "      <th>1</th>\n",
       "      <td>0.030303</td>\n",
       "      <td>0.070707</td>\n",
       "      <td>0.121212</td>\n",
       "      <td>0.030303</td>\n",
       "      <td>0.020548</td>\n",
       "      <td>0.055556</td>\n",
       "      <td>0.333333</td>\n",
       "      <td>0.0</td>\n",
       "      <td>1.0</td>\n",
       "      <td>0.0</td>\n",
       "    </tr>\n",
       "    <tr>\n",
       "      <th>2</th>\n",
       "      <td>0.838384</td>\n",
       "      <td>1.000000</td>\n",
       "      <td>1.000000</td>\n",
       "      <td>0.676768</td>\n",
       "      <td>0.000000</td>\n",
       "      <td>0.027778</td>\n",
       "      <td>0.000000</td>\n",
       "      <td>0.0</td>\n",
       "      <td>0.0</td>\n",
       "      <td>1.0</td>\n",
       "    </tr>\n",
       "    <tr>\n",
       "      <th>3</th>\n",
       "      <td>0.010101</td>\n",
       "      <td>0.070707</td>\n",
       "      <td>0.434343</td>\n",
       "      <td>0.000000</td>\n",
       "      <td>0.006849</td>\n",
       "      <td>0.027778</td>\n",
       "      <td>0.000000</td>\n",
       "      <td>0.0</td>\n",
       "      <td>0.0</td>\n",
       "      <td>1.0</td>\n",
       "    </tr>\n",
       "    <tr>\n",
       "      <th>4</th>\n",
       "      <td>0.090909</td>\n",
       "      <td>0.151515</td>\n",
       "      <td>0.404040</td>\n",
       "      <td>0.030303</td>\n",
       "      <td>0.143836</td>\n",
       "      <td>0.444444</td>\n",
       "      <td>0.666667</td>\n",
       "      <td>0.0</td>\n",
       "      <td>1.0</td>\n",
       "      <td>0.0</td>\n",
       "    </tr>\n",
       "  </tbody>\n",
       "</table>\n",
       "</div>"
      ],
      "text/plain": [
       "          0         1         2         3         4         5         6    7  \\\n",
       "0  0.010101  0.080808  0.222222  0.000000  0.027397  0.111111  0.666667  1.0   \n",
       "1  0.030303  0.070707  0.121212  0.030303  0.020548  0.055556  0.333333  0.0   \n",
       "2  0.838384  1.000000  1.000000  0.676768  0.000000  0.027778  0.000000  0.0   \n",
       "3  0.010101  0.070707  0.434343  0.000000  0.006849  0.027778  0.000000  0.0   \n",
       "4  0.090909  0.151515  0.404040  0.030303  0.143836  0.444444  0.666667  0.0   \n",
       "\n",
       "     8    9  \n",
       "0  0.0  0.0  \n",
       "1  1.0  0.0  \n",
       "2  0.0  1.0  \n",
       "3  0.0  1.0  \n",
       "4  1.0  0.0  "
      ]
     },
     "execution_count": 27,
     "metadata": {},
     "output_type": "execute_result"
    }
   ],
   "source": [
    "X = X_train_ready\n",
    "y = y_train  \n",
    "\n",
    "from sklearn.feature_selection import SelectKBest\n",
    "from sklearn.feature_selection import chi2\n",
    "kbest = SelectKBest(chi2, k=10).fit_transform(X, y)\n",
    "# kbest\n",
    "# Here we choose 10 so that is easier to analyze results later, as we will see\n",
    "selected = pd.DataFrame(kbest)\n",
    "selected.head()"
   ]
  },
  {
   "cell_type": "code",
   "execution_count": 28,
   "id": "4e21fe8a",
   "metadata": {},
   "outputs": [
    {
     "name": "stderr",
     "output_type": "stream",
     "text": [
      "C:\\Users\\Julia\\anaconda3\\lib\\site-packages\\sklearn\\utils\\validation.py:1858: FutureWarning: Feature names only support names that are all strings. Got feature names with dtypes: ['int', 'str']. An error will be raised in 1.2.\n",
      "  warnings.warn(\n"
     ]
    },
    {
     "name": "stdout",
     "output_type": "stream",
     "text": [
      "          score    Column\n",
      "315  149.356986    RFA_2F\n",
      "334   66.298533        17\n",
      "336   65.462579        19\n",
      "335   39.055811        18\n",
      "305   26.878637  CARDGIFT\n",
      "110   15.946509      HVP1\n",
      "111   15.205774      HVP2\n",
      "115   12.177311      HVP6\n",
      "304   12.061024  NGIFTALL\n",
      "112   11.487574      HVP3\n",
      "22    10.320823      ETH2\n",
      "113    8.216650      HVP4\n",
      "129    7.939065       RP1\n",
      "130    7.130402       RP2\n",
      "348    6.750969        31\n",
      "318    6.506822         1\n",
      "299    6.346570  CARDPROM\n",
      "107    6.109367     ETHC4\n",
      "108    5.972700     ETHC5\n",
      "300    5.746043   NUMPROM\n"
     ]
    }
   ],
   "source": [
    "# To check the scores\n",
    "model = SelectKBest(chi2, k=10).fit(X, y)\n",
    "df = pd.DataFrame(data = model.scores_, columns = ['score'])\n",
    "df['Column'] = X_train_ready.columns\n",
    "print(df.sort_values(by = ['score'], ascending = False).head(20))"
   ]
  },
  {
   "cell_type": "code",
   "execution_count": 29,
   "id": "f7394674",
   "metadata": {},
   "outputs": [],
   "source": [
    "import matplotlib.pyplot as plt\n",
    "import seaborn as sns \n",
    "%matplotlib inline"
   ]
  },
  {
   "cell_type": "code",
   "execution_count": 30,
   "id": "4b776ff6",
   "metadata": {},
   "outputs": [
    {
     "data": {
      "text/plain": [
       "['RFA_2F',\n",
       " 17,\n",
       " 19,\n",
       " 18,\n",
       " 'CARDGIFT',\n",
       " 'HVP1',\n",
       " 'HVP2',\n",
       " 'HVP6',\n",
       " 'NGIFTALL',\n",
       " 'HVP3',\n",
       " 'ETH2',\n",
       " 'HVP4',\n",
       " 'RP1',\n",
       " 'RP2',\n",
       " 31]"
      ]
     },
     "execution_count": 30,
     "metadata": {},
     "output_type": "execute_result"
    }
   ],
   "source": [
    "cols = df.sort_values(by = ['score'], ascending = False).head(15)['Column']\n",
    "list(cols)"
   ]
  },
  {
   "cell_type": "code",
   "execution_count": 31,
   "id": "d02b8db8",
   "metadata": {},
   "outputs": [],
   "source": [
    "cols = ['RFA_2F',\n",
    " 19,\n",
    " 17,\n",
    " 18,\n",
    " 'HVP1',\n",
    " 'CARDGIFT',\n",
    " 31,\n",
    " 'RP1',\n",
    " 'HVP4',\n",
    " 'ETH2']"
   ]
  },
  {
   "cell_type": "code",
   "execution_count": 32,
   "id": "8fa5fc7c",
   "metadata": {},
   "outputs": [
    {
     "data": {
      "image/png": "[encoded data removed]",
      "text/plain": [
       "<Figure size 720x576 with 2 Axes>"
      ]
     },
     "metadata": {
      "needs_background": "light"
     },
     "output_type": "display_data"
    }
   ],
   "source": [
    "corr_matrix = X_train_ready[list(cols)].corr(method='pearson')  # default\n",
    "fig, ax = plt.subplots(figsize=(10, 8))\n",
    "ax = sns.heatmap(corr_matrix, annot=True)\n",
    "plt.show()"
   ]
  },
  {
   "cell_type": "code",
   "execution_count": 33,
   "id": "b51df4e8",
   "metadata": {},
   "outputs": [],
   "source": [
    "from sklearn.linear_model import LogisticRegression\n",
    "from sklearn.metrics import precision_score\n",
    "from sklearn.metrics import recall_score\n",
    "from sklearn.metrics import f1_score\n",
    "from sklearn.metrics import confusion_matrix"
   ]
  },
  {
   "cell_type": "code",
   "execution_count": 78,
   "id": "c01bfa4b",
   "metadata": {},
   "outputs": [],
   "source": [
    "def check_model(X_train, X_test, y_train, y_test):\n",
    "    \n",
    "    # * Fit a logistic regression model on the training data.\n",
    "    \n",
    "    LR = LogisticRegression(random_state=0, solver='lbfgs')\n",
    "    model = LR.fit(X_train, y_train)\n",
    "\n",
    "    # * Check the accuracy on the test data.\n",
    "    print(\"score: \",LR.score(X_test, y_test))\n",
    "    \n",
    "    \n",
    "    pred = LR.predict(X_test)\n",
    "\n",
    "    print(\"precision: \",precision_score(y_test,pred))\n",
    "    print(\"recall: \",recall_score(y_test,pred))\n",
    "    print(\"f1: \",f1_score(y_test,pred))\n",
    "    \n",
    "    \n",
    "    print(confusion_matrix(y_test, pred))\n",
    "    \n",
    "    return"
   ]
  },
  {
   "cell_type": "code",
   "execution_count": 86,
   "id": "30fec673",
   "metadata": {},
   "outputs": [],
   "source": [
    "def check_model_cols(X_train, X_test, y_train, y_test):\n",
    "    \n",
    "    # * Fit a logistic regression model on the training data.\n",
    "    \n",
    "    LR = LogisticRegression(random_state=0, solver='lbfgs')\n",
    "    model = LR.fit(X_train[cols], y_train)\n",
    "\n",
    "    # * Check the accuracy on the test data.\n",
    "    print(\"score: \",LR.score(X_test[cols], y_test))\n",
    "    \n",
    "    \n",
    "    pred = LR.predict(X_test[cols])\n",
    "\n",
    "    print(\"precision: \",precision_score(y_test,pred))\n",
    "    print(\"recall: \",recall_score(y_test,pred))\n",
    "    print(\"f1: \",f1_score(y_test,pred))\n",
    "    \n",
    "    \n",
    "    print(confusion_matrix(y_test, pred))\n",
    "    \n",
    "    return"
   ]
  },
  {
   "cell_type": "code",
   "execution_count": 84,
   "id": "690d8bd8",
   "metadata": {},
   "outputs": [
    {
     "name": "stderr",
     "output_type": "stream",
     "text": [
      "C:\\Users\\Julia\\anaconda3\\lib\\site-packages\\sklearn\\utils\\validation.py:1858: FutureWarning: Feature names only support names that are all strings. Got feature names with dtypes: ['int', 'str']. An error will be raised in 1.2.\n",
      "  warnings.warn(\n",
      "C:\\Users\\Julia\\anaconda3\\lib\\site-packages\\sklearn\\utils\\validation.py:1111: DataConversionWarning: A column-vector y was passed when a 1d array was expected. Please change the shape of y to (n_samples, ), for example using ravel().\n",
      "  y = column_or_1d(y, warn=True)\n"
     ]
    },
    {
     "name": "stdout",
     "output_type": "stream",
     "text": [
      "score:  0.9488533937030982\n",
      "precision:  0.0\n",
      "recall:  0.0\n",
      "f1:  0.0\n",
      "[[22633     0]\n",
      " [ 1220     0]]\n"
     ]
    },
    {
     "name": "stderr",
     "output_type": "stream",
     "text": [
      "C:\\Users\\Julia\\anaconda3\\lib\\site-packages\\sklearn\\linear_model\\_logistic.py:444: ConvergenceWarning: lbfgs failed to converge (status=1):\n",
      "STOP: TOTAL NO. of ITERATIONS REACHED LIMIT.\n",
      "\n",
      "Increase the number of iterations (max_iter) or scale the data as shown in:\n",
      "    https://scikit-learn.org/stable/modules/preprocessing.html\n",
      "Please also refer to the documentation for alternative solver options:\n",
      "    https://scikit-learn.org/stable/modules/linear_model.html#logistic-regression\n",
      "  n_iter_i = _check_optimize_result(\n",
      "C:\\Users\\Julia\\anaconda3\\lib\\site-packages\\sklearn\\utils\\validation.py:1858: FutureWarning: Feature names only support names that are all strings. Got feature names with dtypes: ['int', 'str']. An error will be raised in 1.2.\n",
      "  warnings.warn(\n",
      "C:\\Users\\Julia\\anaconda3\\lib\\site-packages\\sklearn\\utils\\validation.py:1858: FutureWarning: Feature names only support names that are all strings. Got feature names with dtypes: ['int', 'str']. An error will be raised in 1.2.\n",
      "  warnings.warn(\n",
      "C:\\Users\\Julia\\anaconda3\\lib\\site-packages\\sklearn\\metrics\\_classification.py:1327: UndefinedMetricWarning: Precision is ill-defined and being set to 0.0 due to no predicted samples. Use `zero_division` parameter to control this behavior.\n",
      "  _warn_prf(average, modifier, msg_start, len(result))\n"
     ]
    }
   ],
   "source": [
    "check_model(X_train_ready, X_test_ready, y_train, y_test)"
   ]
  },
  {
   "cell_type": "code",
   "execution_count": 87,
   "id": "21a287b3",
   "metadata": {},
   "outputs": [
    {
     "name": "stdout",
     "output_type": "stream",
     "text": [
      "score:  0.9488533937030982\n",
      "precision:  0.0\n",
      "recall:  0.0\n",
      "f1:  0.0\n",
      "[[22633     0]\n",
      " [ 1220     0]]\n"
     ]
    },
    {
     "name": "stderr",
     "output_type": "stream",
     "text": [
      "C:\\Users\\Julia\\anaconda3\\lib\\site-packages\\sklearn\\utils\\validation.py:1858: FutureWarning: Feature names only support names that are all strings. Got feature names with dtypes: ['int', 'str']. An error will be raised in 1.2.\n",
      "  warnings.warn(\n",
      "C:\\Users\\Julia\\anaconda3\\lib\\site-packages\\sklearn\\utils\\validation.py:1111: DataConversionWarning: A column-vector y was passed when a 1d array was expected. Please change the shape of y to (n_samples, ), for example using ravel().\n",
      "  y = column_or_1d(y, warn=True)\n",
      "C:\\Users\\Julia\\anaconda3\\lib\\site-packages\\sklearn\\utils\\validation.py:1858: FutureWarning: Feature names only support names that are all strings. Got feature names with dtypes: ['int', 'str']. An error will be raised in 1.2.\n",
      "  warnings.warn(\n",
      "C:\\Users\\Julia\\anaconda3\\lib\\site-packages\\sklearn\\utils\\validation.py:1858: FutureWarning: Feature names only support names that are all strings. Got feature names with dtypes: ['int', 'str']. An error will be raised in 1.2.\n",
      "  warnings.warn(\n",
      "C:\\Users\\Julia\\anaconda3\\lib\\site-packages\\sklearn\\metrics\\_classification.py:1327: UndefinedMetricWarning: Precision is ill-defined and being set to 0.0 due to no predicted samples. Use `zero_division` parameter to control this behavior.\n",
      "  _warn_prf(average, modifier, msg_start, len(result))\n"
     ]
    }
   ],
   "source": [
    "check_model_cols(X_train_ready, X_test_ready, y_train, y_test)"
   ]
  },
  {
   "cell_type": "markdown",
   "id": "bb85641b",
   "metadata": {},
   "source": [
    "Note: So far we have not balanced the data.\n",
    "\n",
    "Managing imbalance in the dataset\n",
    "\n",
    "Check for the imbalance.\n",
    "Use the resampling strategies used in class for upsampling and downsampling to create a balance between the two classes.\n",
    "Each time fit the model and see how the accuracy of the model has changed."
   ]
  },
  {
   "cell_type": "code",
   "execution_count": 38,
   "id": "f8ecc0ce",
   "metadata": {},
   "outputs": [],
   "source": [
    "all_data = pd.concat([categorical, numerical,targets.drop(['TARGET_D'],axis=1)], axis=1)"
   ]
  },
  {
   "cell_type": "code",
   "execution_count": 39,
   "id": "8f6352c8",
   "metadata": {},
   "outputs": [
    {
     "data": {
      "text/plain": [
       "0    90569\n",
       "1     4843\n",
       "Name: TARGET_B, dtype: int64"
      ]
     },
     "execution_count": 39,
     "metadata": {},
     "output_type": "execute_result"
    }
   ],
   "source": [
    "all_data['TARGET_B'].value_counts()"
   ]
  },
  {
   "cell_type": "code",
   "execution_count": 40,
   "id": "7a8a1d71",
   "metadata": {},
   "outputs": [],
   "source": [
    "from sklearn.utils import resample\n",
    "\n",
    "category_0 = all_data[all_data['TARGET_B'] == 0]\n",
    "category_1 = all_data[all_data['TARGET_B'] == 1]"
   ]
  },
  {
   "cell_type": "markdown",
   "id": "85dcf13b",
   "metadata": {},
   "source": [
    "### Downsampling (undersampling)"
   ]
  },
  {
   "cell_type": "code",
   "execution_count": 41,
   "id": "e83f828e",
   "metadata": {},
   "outputs": [],
   "source": [
    "category_0_undersampled = resample(category_0, \n",
    "                                   replace=False, \n",
    "                                   n_samples = len(category_1))"
   ]
  },
  {
   "cell_type": "code",
   "execution_count": 42,
   "id": "deb7512c",
   "metadata": {},
   "outputs": [
    {
     "name": "stdout",
     "output_type": "stream",
     "text": [
      "(4843, 330)\n",
      "(4843, 330)\n"
     ]
    }
   ],
   "source": [
    "print(category_0_undersampled.shape)\n",
    "print(category_1.shape)"
   ]
  },
  {
   "cell_type": "code",
   "execution_count": 43,
   "id": "f406d80e",
   "metadata": {},
   "outputs": [],
   "source": [
    "data_downsampled = pd.concat([category_0_undersampled, category_1], axis=0)"
   ]
  },
  {
   "cell_type": "code",
   "execution_count": 44,
   "id": "a528db0a",
   "metadata": {},
   "outputs": [
    {
     "data": {
      "text/plain": [
       "0    4843\n",
       "1    4843\n",
       "Name: TARGET_B, dtype: int64"
      ]
     },
     "execution_count": 44,
     "metadata": {},
     "output_type": "execute_result"
    }
   ],
   "source": [
    "data_downsampled['TARGET_B'].value_counts()"
   ]
  },
  {
   "cell_type": "code",
   "execution_count": 59,
   "id": "5bc6c91f",
   "metadata": {},
   "outputs": [
    {
     "data": {
      "text/plain": [
       "(9686, 330)"
      ]
     },
     "execution_count": 59,
     "metadata": {},
     "output_type": "execute_result"
    }
   ],
   "source": [
    "data_downsampled.shape"
   ]
  },
  {
   "cell_type": "code",
   "execution_count": 57,
   "id": "e11b2008",
   "metadata": {},
   "outputs": [],
   "source": [
    "X_d = data_downsampled.drop(['TARGET_B'],axis=1)\n",
    "y_d = data_downsampled[['TARGET_B']]"
   ]
  },
  {
   "cell_type": "code",
   "execution_count": 58,
   "id": "b61145c4",
   "metadata": {},
   "outputs": [
    {
     "name": "stdout",
     "output_type": "stream",
     "text": [
      "(7264, 329)\n",
      "(2422, 329)\n",
      "(7264, 1)\n",
      "(2422, 1)\n"
     ]
    }
   ],
   "source": [
    "X_train_ready_d, X_test_ready_d, y_train_d, y_test_d = logistic_regr(X_d,y_d)"
   ]
  },
  {
   "cell_type": "code",
   "execution_count": 79,
   "id": "cb2afe16",
   "metadata": {},
   "outputs": [
    {
     "name": "stderr",
     "output_type": "stream",
     "text": [
      "C:\\Users\\Julia\\anaconda3\\lib\\site-packages\\sklearn\\utils\\validation.py:1858: FutureWarning: Feature names only support names that are all strings. Got feature names with dtypes: ['int', 'str']. An error will be raised in 1.2.\n",
      "  warnings.warn(\n",
      "C:\\Users\\Julia\\anaconda3\\lib\\site-packages\\sklearn\\utils\\validation.py:1111: DataConversionWarning: A column-vector y was passed when a 1d array was expected. Please change the shape of y to (n_samples, ), for example using ravel().\n",
      "  y = column_or_1d(y, warn=True)\n"
     ]
    },
    {
     "name": "stdout",
     "output_type": "stream",
     "text": [
      "score:  0.5668868703550785\n",
      "precision:  0.5660218671152228\n",
      "recall:  0.5580431177446102\n",
      "f1:  0.5620041753653445\n",
      "[[700 516]\n",
      " [533 673]]\n"
     ]
    },
    {
     "name": "stderr",
     "output_type": "stream",
     "text": [
      "C:\\Users\\Julia\\anaconda3\\lib\\site-packages\\sklearn\\linear_model\\_logistic.py:444: ConvergenceWarning: lbfgs failed to converge (status=1):\n",
      "STOP: TOTAL NO. of ITERATIONS REACHED LIMIT.\n",
      "\n",
      "Increase the number of iterations (max_iter) or scale the data as shown in:\n",
      "    https://scikit-learn.org/stable/modules/preprocessing.html\n",
      "Please also refer to the documentation for alternative solver options:\n",
      "    https://scikit-learn.org/stable/modules/linear_model.html#logistic-regression\n",
      "  n_iter_i = _check_optimize_result(\n",
      "C:\\Users\\Julia\\anaconda3\\lib\\site-packages\\sklearn\\utils\\validation.py:1858: FutureWarning: Feature names only support names that are all strings. Got feature names with dtypes: ['int', 'str']. An error will be raised in 1.2.\n",
      "  warnings.warn(\n",
      "C:\\Users\\Julia\\anaconda3\\lib\\site-packages\\sklearn\\utils\\validation.py:1858: FutureWarning: Feature names only support names that are all strings. Got feature names with dtypes: ['int', 'str']. An error will be raised in 1.2.\n",
      "  warnings.warn(\n"
     ]
    }
   ],
   "source": [
    "check_model(X_train_ready_d, X_test_ready_d, y_train_d, y_test_d)"
   ]
  },
  {
   "cell_type": "code",
   "execution_count": 88,
   "id": "dba04d68",
   "metadata": {},
   "outputs": [
    {
     "name": "stdout",
     "output_type": "stream",
     "text": [
      "score:  0.5755573905862923\n",
      "precision:  0.5804701627486437\n",
      "recall:  0.5323383084577115\n",
      "f1:  0.555363321799308\n",
      "[[752 464]\n",
      " [564 642]]\n"
     ]
    },
    {
     "name": "stderr",
     "output_type": "stream",
     "text": [
      "C:\\Users\\Julia\\anaconda3\\lib\\site-packages\\sklearn\\utils\\validation.py:1858: FutureWarning: Feature names only support names that are all strings. Got feature names with dtypes: ['int', 'str']. An error will be raised in 1.2.\n",
      "  warnings.warn(\n",
      "C:\\Users\\Julia\\anaconda3\\lib\\site-packages\\sklearn\\utils\\validation.py:1111: DataConversionWarning: A column-vector y was passed when a 1d array was expected. Please change the shape of y to (n_samples, ), for example using ravel().\n",
      "  y = column_or_1d(y, warn=True)\n",
      "C:\\Users\\Julia\\anaconda3\\lib\\site-packages\\sklearn\\utils\\validation.py:1858: FutureWarning: Feature names only support names that are all strings. Got feature names with dtypes: ['int', 'str']. An error will be raised in 1.2.\n",
      "  warnings.warn(\n",
      "C:\\Users\\Julia\\anaconda3\\lib\\site-packages\\sklearn\\utils\\validation.py:1858: FutureWarning: Feature names only support names that are all strings. Got feature names with dtypes: ['int', 'str']. An error will be raised in 1.2.\n",
      "  warnings.warn(\n"
     ]
    }
   ],
   "source": [
    "check_model_cols(X_train_ready_d, X_test_ready_d, y_train_d, y_test_d)"
   ]
  },
  {
   "cell_type": "markdown",
   "id": "44978485",
   "metadata": {},
   "source": [
    "### Upsampling (oversampling)"
   ]
  },
  {
   "cell_type": "code",
   "execution_count": 45,
   "id": "3b010548",
   "metadata": {},
   "outputs": [],
   "source": [
    "category_1_oversampled = resample(category_1, \n",
    "                                  replace=True, \n",
    "                                  n_samples = len(category_0))"
   ]
  },
  {
   "cell_type": "code",
   "execution_count": 46,
   "id": "f2dc3daa",
   "metadata": {},
   "outputs": [
    {
     "name": "stdout",
     "output_type": "stream",
     "text": [
      "(90569, 330)\n",
      "(90569, 330)\n"
     ]
    }
   ],
   "source": [
    "print(category_0.shape)\n",
    "print(category_1_oversampled.shape)"
   ]
  },
  {
   "cell_type": "code",
   "execution_count": 47,
   "id": "7cb87e14",
   "metadata": {},
   "outputs": [],
   "source": [
    "data_upsampled = pd.concat([category_0, category_1_oversampled], axis=0)"
   ]
  },
  {
   "cell_type": "code",
   "execution_count": 48,
   "id": "bb0adcb1",
   "metadata": {},
   "outputs": [
    {
     "data": {
      "text/plain": [
       "0    90569\n",
       "1    90569\n",
       "Name: TARGET_B, dtype: int64"
      ]
     },
     "execution_count": 48,
     "metadata": {},
     "output_type": "execute_result"
    }
   ],
   "source": [
    "data_upsampled['TARGET_B'].value_counts()"
   ]
  },
  {
   "cell_type": "code",
   "execution_count": 80,
   "id": "b51f72e5",
   "metadata": {},
   "outputs": [],
   "source": [
    "X_u = data_upsampled.drop(['TARGET_B'],axis=1)\n",
    "y_u = data_upsampled[['TARGET_B']]"
   ]
  },
  {
   "cell_type": "code",
   "execution_count": 81,
   "id": "d0f0a413",
   "metadata": {},
   "outputs": [
    {
     "name": "stdout",
     "output_type": "stream",
     "text": [
      "(135853, 329)\n",
      "(45285, 329)\n",
      "(135853, 1)\n",
      "(45285, 1)\n"
     ]
    }
   ],
   "source": [
    "X_train_ready_u, X_test_ready_u, y_train_u, y_test_u = logistic_regr(X_u,y_u)"
   ]
  },
  {
   "cell_type": "code",
   "execution_count": 82,
   "id": "38beb48f",
   "metadata": {},
   "outputs": [
    {
     "name": "stderr",
     "output_type": "stream",
     "text": [
      "C:\\Users\\Julia\\anaconda3\\lib\\site-packages\\sklearn\\utils\\validation.py:1858: FutureWarning: Feature names only support names that are all strings. Got feature names with dtypes: ['int', 'str']. An error will be raised in 1.2.\n",
      "  warnings.warn(\n",
      "C:\\Users\\Julia\\anaconda3\\lib\\site-packages\\sklearn\\utils\\validation.py:1111: DataConversionWarning: A column-vector y was passed when a 1d array was expected. Please change the shape of y to (n_samples, ), for example using ravel().\n",
      "  y = column_or_1d(y, warn=True)\n",
      "C:\\Users\\Julia\\anaconda3\\lib\\site-packages\\sklearn\\linear_model\\_logistic.py:444: ConvergenceWarning: lbfgs failed to converge (status=1):\n",
      "STOP: TOTAL NO. of ITERATIONS REACHED LIMIT.\n",
      "\n",
      "Increase the number of iterations (max_iter) or scale the data as shown in:\n",
      "    https://scikit-learn.org/stable/modules/preprocessing.html\n",
      "Please also refer to the documentation for alternative solver options:\n",
      "    https://scikit-learn.org/stable/modules/linear_model.html#logistic-regression\n",
      "  n_iter_i = _check_optimize_result(\n",
      "C:\\Users\\Julia\\anaconda3\\lib\\site-packages\\sklearn\\utils\\validation.py:1858: FutureWarning: Feature names only support names that are all strings. Got feature names with dtypes: ['int', 'str']. An error will be raised in 1.2.\n",
      "  warnings.warn(\n",
      "C:\\Users\\Julia\\anaconda3\\lib\\site-packages\\sklearn\\utils\\validation.py:1858: FutureWarning: Feature names only support names that are all strings. Got feature names with dtypes: ['int', 'str']. An error will be raised in 1.2.\n",
      "  warnings.warn(\n"
     ]
    },
    {
     "name": "stdout",
     "output_type": "stream",
     "text": [
      "score:  0.5913878767803908\n",
      "precision:  0.5958321781720728\n",
      "recall:  0.569265407028077\n",
      "f1:  0.5822459023795548\n",
      "[[13886  8747]\n",
      " [ 9757 12895]]\n"
     ]
    }
   ],
   "source": [
    "check_model(X_train_ready_u, X_test_ready_u, y_train_u, y_test_u)"
   ]
  },
  {
   "cell_type": "code",
   "execution_count": 89,
   "id": "3bb24c11",
   "metadata": {},
   "outputs": [
    {
     "name": "stderr",
     "output_type": "stream",
     "text": [
      "C:\\Users\\Julia\\anaconda3\\lib\\site-packages\\sklearn\\utils\\validation.py:1858: FutureWarning: Feature names only support names that are all strings. Got feature names with dtypes: ['int', 'str']. An error will be raised in 1.2.\n",
      "  warnings.warn(\n",
      "C:\\Users\\Julia\\anaconda3\\lib\\site-packages\\sklearn\\utils\\validation.py:1111: DataConversionWarning: A column-vector y was passed when a 1d array was expected. Please change the shape of y to (n_samples, ), for example using ravel().\n",
      "  y = column_or_1d(y, warn=True)\n"
     ]
    },
    {
     "name": "stdout",
     "output_type": "stream",
     "text": [
      "score:  0.5815612233631445\n",
      "precision:  0.587578638664207\n",
      "recall:  0.5483842486314674\n",
      "f1:  0.5673052770990797\n",
      "[[13914  8719]\n",
      " [10230 12422]]\n"
     ]
    },
    {
     "name": "stderr",
     "output_type": "stream",
     "text": [
      "C:\\Users\\Julia\\anaconda3\\lib\\site-packages\\sklearn\\utils\\validation.py:1858: FutureWarning: Feature names only support names that are all strings. Got feature names with dtypes: ['int', 'str']. An error will be raised in 1.2.\n",
      "  warnings.warn(\n",
      "C:\\Users\\Julia\\anaconda3\\lib\\site-packages\\sklearn\\utils\\validation.py:1858: FutureWarning: Feature names only support names that are all strings. Got feature names with dtypes: ['int', 'str']. An error will be raised in 1.2.\n",
      "  warnings.warn(\n"
     ]
    }
   ],
   "source": [
    "check_model_cols(X_train_ready_u, X_test_ready_u, y_train_u, y_test_u)"
   ]
  }
 ],
 "metadata": {
  "kernelspec": {
   "display_name": "Python 3 (ipykernel)",
   "language": "python",
   "name": "python3"
  },
  "language_info": {
   "codemirror_mode": {
    "name": "ipython",
    "version": 3
   },
   "file_extension": ".py",
   "mimetype": "text/x-python",
   "name": "python",
   "nbconvert_exporter": "python",
   "pygments_lexer": "ipython3",
   "version": "3.9.12"
  }
 },
 "nbformat": 4,
 "nbformat_minor": 5
}
